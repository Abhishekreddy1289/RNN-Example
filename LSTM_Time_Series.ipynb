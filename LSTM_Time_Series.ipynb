{
 "cells": [
  {
   "cell_type": "markdown",
   "id": "f1fada19",
   "metadata": {},
   "source": [
    "# Daily Foreign Exchange Rates"
   ]
  },
  {
   "cell_type": "code",
   "execution_count": 1,
   "id": "b31e5b83",
   "metadata": {},
   "outputs": [],
   "source": [
    "#importing libraries\n",
    "import numpy as np\n",
    "import pandas as pd\n",
    "import matplotlib.pyplot as plt"
   ]
  },
  {
   "cell_type": "code",
   "execution_count": 2,
   "id": "06ca9c55",
   "metadata": {},
   "outputs": [],
   "source": [
    "#importing training dataset\n",
    "dataset_train=pd.read_csv('daily-foreign-exchange-rates-31-.csv')\n",
    "training_set=dataset_train.iloc[:,1:].values"
   ]
  },
  {
   "cell_type": "code",
   "execution_count": 3,
   "id": "1a73eb23",
   "metadata": {},
   "outputs": [],
   "source": [
    "#feature scaling\n",
    "from sklearn.preprocessing import MinMaxScaler\n",
    "sc=MinMaxScaler(feature_range=(0,1))\n",
    "training_set=sc.fit_transform(training_set)"
   ]
  },
  {
   "cell_type": "code",
   "execution_count": 4,
   "id": "5b412c90",
   "metadata": {},
   "outputs": [],
   "source": [
    "#creating data structure with 60 timesteps and 1 output\n",
    "x_train=[]\n",
    "y_train=[]\n",
    "for i in range(60,4773):\n",
    "    x_train.append(training_set[i-60:i,0])\n",
    "    y_train.append(training_set[i,0])\n",
    "x_train,y_train=np.array(x_train),np.array(y_train)\n",
    "\n",
    "#reshape\n",
    "x_train=np.reshape(x_train,(x_train.shape[0],x_train.shape[1],1))"
   ]
  },
  {
   "cell_type": "code",
   "execution_count": 5,
   "id": "d7b38879",
   "metadata": {},
   "outputs": [],
   "source": [
    "#importing the keras libraries and packages\n",
    "from keras.models import Sequential\n",
    "from keras.layers import Dense\n",
    "from keras.layers import LSTM\n",
    "from keras.layers import Dropout"
   ]
  },
  {
   "cell_type": "code",
   "execution_count": 12,
   "id": "513e3e6d",
   "metadata": {},
   "outputs": [],
   "source": [
    "#Initialising RNN\n",
    "regressor=Sequential()"
   ]
  },
  {
   "cell_type": "code",
   "execution_count": 13,
   "id": "504003c1",
   "metadata": {},
   "outputs": [],
   "source": [
    "#Adding the first LSTM layer and some Dropout regularisation\n",
    "regressor.add(LSTM(units=50,return_sequences=True,input_shape=(x_train.shape[1],1)))\n",
    "regressor.add(Dropout(0.2))"
   ]
  },
  {
   "cell_type": "code",
   "execution_count": 14,
   "id": "3183e632",
   "metadata": {},
   "outputs": [],
   "source": [
    "#Adding the second LSTM layer and some Dropout regularisation\n",
    "regressor.add(LSTM(units=50,return_sequences=True))\n",
    "regressor.add(Dropout(0.2))"
   ]
  },
  {
   "cell_type": "code",
   "execution_count": 15,
   "id": "22a8464a",
   "metadata": {},
   "outputs": [],
   "source": [
    "#Adding the Third LSTM layer and some Dropout regularisation\n",
    "regressor.add(LSTM(units=50,return_sequences=True))\n",
    "regressor.add(Dropout(0.2))"
   ]
  },
  {
   "cell_type": "code",
   "execution_count": 16,
   "id": "a6cd6ee1",
   "metadata": {},
   "outputs": [],
   "source": [
    "#Adding the fourth LSTM layer and some Dropout regularisation\n",
    "regressor.add(LSTM(units=50))\n",
    "regressor.add(Dropout(0.2))"
   ]
  },
  {
   "cell_type": "code",
   "execution_count": 18,
   "id": "e75bea1b",
   "metadata": {},
   "outputs": [],
   "source": [
    "#adding output layer\n",
    "regressor.add(Dense(units=1))"
   ]
  },
  {
   "cell_type": "code",
   "execution_count": 19,
   "id": "1db9c40d",
   "metadata": {},
   "outputs": [],
   "source": [
    "#compiling the RNN\n",
    "regressor.compile(optimizer='adam',loss='mean_squared_error')"
   ]
  },
  {
   "cell_type": "code",
   "execution_count": 20,
   "id": "87088dfa",
   "metadata": {},
   "outputs": [
    {
     "name": "stdout",
     "output_type": "stream",
     "text": [
      "Epoch 1/100\n",
      "148/148 [==============================] - 171s 686ms/step - loss: 0.0068\n",
      "Epoch 2/100\n",
      "148/148 [==============================] - 81s 544ms/step - loss: 0.0019\n",
      "Epoch 3/100\n",
      "148/148 [==============================] - 82s 555ms/step - loss: 0.0016\n",
      "Epoch 4/100\n",
      "148/148 [==============================] - 111s 751ms/step - loss: 0.0014\n",
      "Epoch 5/100\n",
      "148/148 [==============================] - 113s 763ms/step - loss: 0.0013\n",
      "Epoch 6/100\n",
      "148/148 [==============================] - 118s 800ms/step - loss: 0.0012\n",
      "Epoch 7/100\n",
      "148/148 [==============================] - 101s 681ms/step - loss: 0.0012\n",
      "Epoch 8/100\n",
      "148/148 [==============================] - 60s 408ms/step - loss: 0.0012\n",
      "Epoch 9/100\n",
      "148/148 [==============================] - 61s 414ms/step - loss: 0.0010\n",
      "Epoch 10/100\n",
      "148/148 [==============================] - 74s 500ms/step - loss: 0.0010\n",
      "Epoch 11/100\n",
      "148/148 [==============================] - 71s 480ms/step - loss: 9.4794e-04\n",
      "Epoch 12/100\n",
      "148/148 [==============================] - 73s 492ms/step - loss: 9.9684e-04\n",
      "Epoch 13/100\n",
      "148/148 [==============================] - 74s 497ms/step - loss: 9.8598e-04\n",
      "Epoch 14/100\n",
      "148/148 [==============================] - 75s 511ms/step - loss: 8.5627e-04\n",
      "Epoch 15/100\n",
      "148/148 [==============================] - 49s 328ms/step - loss: 8.6925e-04\n",
      "Epoch 16/100\n",
      "148/148 [==============================] - 45s 303ms/step - loss: 8.4786e-04\n",
      "Epoch 17/100\n",
      "148/148 [==============================] - 45s 307ms/step - loss: 7.2857e-04\n",
      "Epoch 18/100\n",
      "148/148 [==============================] - 46s 311ms/step - loss: 8.0171e-04\n",
      "Epoch 19/100\n",
      "148/148 [==============================] - 45s 303ms/step - loss: 7.7993e-04\n",
      "Epoch 20/100\n",
      "148/148 [==============================] - 46s 311ms/step - loss: 8.1136e-04\n",
      "Epoch 21/100\n",
      "148/148 [==============================] - 45s 305ms/step - loss: 8.1405e-04\n",
      "Epoch 22/100\n",
      "148/148 [==============================] - 50s 338ms/step - loss: 6.9285e-04\n",
      "Epoch 23/100\n",
      "148/148 [==============================] - 55s 372ms/step - loss: 6.4726e-04\n",
      "Epoch 24/100\n",
      "148/148 [==============================] - 48s 325ms/step - loss: 6.3993e-04\n",
      "Epoch 25/100\n",
      "148/148 [==============================] - 48s 326ms/step - loss: 6.2559e-04\n",
      "Epoch 26/100\n",
      "148/148 [==============================] - 48s 325ms/step - loss: 6.3435e-04\n",
      "Epoch 27/100\n",
      "148/148 [==============================] - 49s 329ms/step - loss: 5.8142e-04\n",
      "Epoch 28/100\n",
      "148/148 [==============================] - 48s 324ms/step - loss: 6.5780e-04\n",
      "Epoch 29/100\n",
      "148/148 [==============================] - 43s 292ms/step - loss: 6.2952e-04\n",
      "Epoch 30/100\n",
      "148/148 [==============================] - 42s 287ms/step - loss: 5.9305e-04\n",
      "Epoch 31/100\n",
      "148/148 [==============================] - 46s 310ms/step - loss: 5.8991e-04\n",
      "Epoch 32/100\n",
      "148/148 [==============================] - 47s 320ms/step - loss: 6.0311e-04\n",
      "Epoch 33/100\n",
      "148/148 [==============================] - 48s 323ms/step - loss: 6.8621e-04\n",
      "Epoch 34/100\n",
      "148/148 [==============================] - 49s 328ms/step - loss: 6.0578e-04\n",
      "Epoch 35/100\n",
      "148/148 [==============================] - 48s 324ms/step - loss: 6.4203e-04\n",
      "Epoch 36/100\n",
      "148/148 [==============================] - 47s 317ms/step - loss: 5.9089e-04\n",
      "Epoch 37/100\n",
      "148/148 [==============================] - 49s 332ms/step - loss: 5.6431e-04\n",
      "Epoch 38/100\n",
      "148/148 [==============================] - 48s 322ms/step - loss: 6.1490e-04\n",
      "Epoch 39/100\n",
      "148/148 [==============================] - 48s 322ms/step - loss: 5.6482e-04\n",
      "Epoch 40/100\n",
      "148/148 [==============================] - 48s 321ms/step - loss: 5.5242e-04\n",
      "Epoch 41/100\n",
      "148/148 [==============================] - 47s 316ms/step - loss: 5.8769e-04\n",
      "Epoch 42/100\n",
      "148/148 [==============================] - 47s 317ms/step - loss: 5.0756e-04\n",
      "Epoch 43/100\n",
      "148/148 [==============================] - 47s 320ms/step - loss: 5.4562e-04\n",
      "Epoch 44/100\n",
      "148/148 [==============================] - 46s 308ms/step - loss: 5.2311e-04\n",
      "Epoch 45/100\n",
      "148/148 [==============================] - 43s 288ms/step - loss: 5.6029e-04\n",
      "Epoch 46/100\n",
      "148/148 [==============================] - 42s 283ms/step - loss: 5.8525e-04\n",
      "Epoch 47/100\n",
      "148/148 [==============================] - 43s 291ms/step - loss: 6.1576e-04\n",
      "Epoch 48/100\n",
      "148/148 [==============================] - 43s 287ms/step - loss: 5.4689e-04\n",
      "Epoch 49/100\n",
      "148/148 [==============================] - 42s 284ms/step - loss: 5.1500e-04\n",
      "Epoch 50/100\n",
      "148/148 [==============================] - 43s 290ms/step - loss: 5.1422e-04\n",
      "Epoch 51/100\n",
      "148/148 [==============================] - 43s 291ms/step - loss: 5.2287e-04\n",
      "Epoch 52/100\n",
      "148/148 [==============================] - 42s 285ms/step - loss: 5.0271e-04\n",
      "Epoch 53/100\n",
      "148/148 [==============================] - 42s 285ms/step - loss: 5.1978e-04\n",
      "Epoch 54/100\n",
      "148/148 [==============================] - 43s 292ms/step - loss: 4.8142e-04\n",
      "Epoch 55/100\n",
      "148/148 [==============================] - 45s 306ms/step - loss: 5.3731e-04\n",
      "Epoch 56/100\n",
      "148/148 [==============================] - 88s 598ms/step - loss: 4.5909e-04\n",
      "Epoch 57/100\n",
      "148/148 [==============================] - 72s 487ms/step - loss: 4.5094e-04\n",
      "Epoch 58/100\n",
      "148/148 [==============================] - 50s 336ms/step - loss: 4.7863e-04\n",
      "Epoch 59/100\n",
      "148/148 [==============================] - 49s 334ms/step - loss: 5.1771e-04\n",
      "Epoch 60/100\n",
      "148/148 [==============================] - 51s 347ms/step - loss: 5.0521e-04\n",
      "Epoch 61/100\n",
      "148/148 [==============================] - 81s 547ms/step - loss: 5.1173e-04\n",
      "Epoch 62/100\n",
      "148/148 [==============================] - 83s 561ms/step - loss: 4.8914e-04\n",
      "Epoch 63/100\n",
      "148/148 [==============================] - 72s 491ms/step - loss: 4.9742e-04\n",
      "Epoch 64/100\n",
      "148/148 [==============================] - 97s 655ms/step - loss: 4.5382e-04\n",
      "Epoch 65/100\n",
      "148/148 [==============================] - 77s 521ms/step - loss: 4.6560e-04\n",
      "Epoch 66/100\n",
      "148/148 [==============================] - 60s 407ms/step - loss: 5.1507e-04\n",
      "Epoch 67/100\n",
      "148/148 [==============================] - 61s 410ms/step - loss: 4.5333e-04\n",
      "Epoch 68/100\n",
      "148/148 [==============================] - 72s 487ms/step - loss: 4.5216e-04\n",
      "Epoch 69/100\n",
      "148/148 [==============================] - 69s 465ms/step - loss: 4.7138e-04\n",
      "Epoch 70/100\n",
      "148/148 [==============================] - 66s 446ms/step - loss: 4.8302e-04\n",
      "Epoch 71/100\n",
      "148/148 [==============================] - 64s 432ms/step - loss: 4.7412e-04\n",
      "Epoch 72/100\n",
      "148/148 [==============================] - 69s 468ms/step - loss: 4.9031e-04\n",
      "Epoch 73/100\n",
      "148/148 [==============================] - 53s 358ms/step - loss: 4.9591e-04\n",
      "Epoch 74/100\n",
      "148/148 [==============================] - 47s 319ms/step - loss: 4.7398e-04\n",
      "Epoch 75/100\n",
      "148/148 [==============================] - 47s 319ms/step - loss: 4.3191e-04\n",
      "Epoch 76/100\n",
      "148/148 [==============================] - 50s 341ms/step - loss: 4.4749e-04\n",
      "Epoch 77/100\n",
      "148/148 [==============================] - 50s 337ms/step - loss: 4.7104e-04\n",
      "Epoch 78/100\n",
      "148/148 [==============================] - 46s 310ms/step - loss: 4.6571e-04\n",
      "Epoch 79/100\n",
      "148/148 [==============================] - 50s 335ms/step - loss: 4.4048e-04\n",
      "Epoch 80/100\n",
      "148/148 [==============================] - 2320s 16s/step - loss: 4.6552e-04\n",
      "Epoch 81/100\n",
      "148/148 [==============================] - 55s 374ms/step - loss: 4.9715e-04\n",
      "Epoch 82/100\n",
      "148/148 [==============================] - 45s 301ms/step - loss: 4.2976e-04\n",
      "Epoch 83/100\n",
      "148/148 [==============================] - 43s 291ms/step - loss: 4.6499e-04\n",
      "Epoch 84/100\n",
      "148/148 [==============================] - 41s 276ms/step - loss: 4.4434e-04\n",
      "Epoch 85/100\n",
      "148/148 [==============================] - 43s 289ms/step - loss: 4.7828e-04\n",
      "Epoch 86/100\n",
      "148/148 [==============================] - 50s 335ms/step - loss: 4.8072e-04\n",
      "Epoch 87/100\n",
      "148/148 [==============================] - 49s 329ms/step - loss: 4.6842e-04\n",
      "Epoch 88/100\n",
      "148/148 [==============================] - 49s 328ms/step - loss: 4.4658e-04\n",
      "Epoch 89/100\n",
      "148/148 [==============================] - 47s 319ms/step - loss: 4.6343e-04\n",
      "Epoch 90/100\n",
      "148/148 [==============================] - 53s 361ms/step - loss: 4.2123e-04\n",
      "Epoch 91/100\n",
      "148/148 [==============================] - 47s 315ms/step - loss: 4.5731e-04\n",
      "Epoch 92/100\n",
      "148/148 [==============================] - 44s 296ms/step - loss: 4.0599e-04\n",
      "Epoch 93/100\n",
      "148/148 [==============================] - 63s 424ms/step - loss: 4.1637e-04\n",
      "Epoch 94/100\n",
      "148/148 [==============================] - 65s 437ms/step - loss: 4.2095e-04\n",
      "Epoch 95/100\n",
      "148/148 [==============================] - 67s 452ms/step - loss: 4.3795e-04\n",
      "Epoch 96/100\n",
      "148/148 [==============================] - 64s 430ms/step - loss: 4.2871e-04\n",
      "Epoch 97/100\n",
      "148/148 [==============================] - 68s 462ms/step - loss: 4.2772e-04\n",
      "Epoch 98/100\n",
      "148/148 [==============================] - 51s 342ms/step - loss: 4.1925e-04\n",
      "Epoch 99/100\n",
      "148/148 [==============================] - 54s 366ms/step - loss: 4.2102e-04\n",
      "Epoch 100/100\n",
      "148/148 [==============================] - 63s 425ms/step - loss: 4.9282e-04\n"
     ]
    },
    {
     "data": {
      "text/plain": [
       "<keras.callbacks.History at 0x2601f649a60>"
      ]
     },
     "execution_count": 20,
     "metadata": {},
     "output_type": "execute_result"
    }
   ],
   "source": [
    "regressor.fit(x_train,y_train,epochs=100,batch_size=32)"
   ]
  },
  {
   "cell_type": "code",
   "execution_count": 21,
   "id": "c7080add",
   "metadata": {},
   "outputs": [],
   "source": [
    "#importing training dataset\n",
    "dataset_test=pd.read_csv('test.csv')\n",
    "testing_set=dataset_test.iloc[:,1:].values"
   ]
  },
  {
   "cell_type": "code",
   "execution_count": 42,
   "id": "cb68e146",
   "metadata": {},
   "outputs": [
    {
     "name": "stdout",
     "output_type": "stream",
     "text": [
      "6/6 [==============================] - 1s 78ms/step\n"
     ]
    }
   ],
   "source": [
    "#getting predicted of 1980 Daily foreign exchange rates\n",
    "inputs=testing_set.reshape(-1,1)\n",
    "inputs=sc.fit_transform(inputs)\n",
    "x_test=[]\n",
    "for i in range(60,len(inputs)):\n",
    "    x_test.append(inputs[i-60:i,0])\n",
    "x_test=np.array(x_test)\n",
    "x_test=np.reshape(x_test,(x_test.shape[0],x_test.shape[1],1))\n",
    "predicted_rate=regressor.predict(x_test)\n",
    "predicted_rate=sc.inverse_transform(predicted_rate)"
   ]
  },
  {
   "cell_type": "code",
   "execution_count": 44,
   "id": "1226c330",
   "metadata": {},
   "outputs": [
    {
     "data": {
      "image/png": "[encoded data removed]",
      "text/plain": [
       "<Figure size 640x480 with 1 Axes>"
      ]
     },
     "metadata": {},
     "output_type": "display_data"
    }
   ],
   "source": [
    "#visualising the result\n",
    "plt.plot(testing_set[60:],color='red',label='Real Rate')\n",
    "plt.plot(predicted_rate,color='blue',label='Predicated Rate')\n",
    "plt.title('1980 Daily foreign exchange rates')\n",
    "plt.xlabel('Time')\n",
    "plt.ylabel('Daily foreign exchange rates')\n",
    "plt.legend()\n",
    "plt.show()"
   ]
  }
 ],
 "metadata": {
  "kernelspec": {
   "display_name": "Python 3 (ipykernel)",
   "language": "python",
   "name": "python3"
  },
  "language_info": {
   "codemirror_mode": {
    "name": "ipython",
    "version": 3
   },
   "file_extension": ".py",
   "mimetype": "text/x-python",
   "name": "python",
   "nbconvert_exporter": "python",
   "pygments_lexer": "ipython3",
   "version": "3.9.13"
  }
 },
 "nbformat": 4,
 "nbformat_minor": 5
}
